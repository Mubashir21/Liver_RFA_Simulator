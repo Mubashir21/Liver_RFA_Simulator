{
  "cells": [
    {
      "cell_type": "markdown",
      "metadata": {},
      "source": [
        "#### Install and import packages"
      ]
    },
    {
      "cell_type": "code",
      "execution_count": null,
      "metadata": {
        "id": "4gWU296IAt4A"
      },
      "outputs": [],
      "source": [
        "!pip install neuraloperator\n",
        "!pip install tensorly\n",
        "!pip install tensorly-torch\n",
        "!pip install wandb\n",
        "!pip install zarr\n",
        "!pip install torch-harmonics"
      ]
    },
    {
      "cell_type": "code",
      "execution_count": null,
      "metadata": {
        "id": "49GzwJSRv3ne"
      },
      "outputs": [],
      "source": [
        "from scipy.io import loadmat\n",
        "import pandas as pd\n",
        "import torch\n",
        "from torch.utils.data import Dataset, DataLoader\n",
        "from torch import nn\n",
        "import numpy as np\n",
        "from neuralop.models import FNO2d\n",
        "import matplotlib.pyplot as plt\n",
        "from neuralop import LpLoss, H1Loss\n",
        "import wandb"
      ]
    },
    {
      "cell_type": "markdown",
      "metadata": {},
      "source": [
        "#### Login to wandb platform"
      ]
    },
    {
      "cell_type": "code",
      "execution_count": null,
      "metadata": {
        "colab": {
          "base_uri": "https://localhost:8080/",
          "height": 141
        },
        "id": "PbaHVXuhKSZl",
        "outputId": "07c5312e-cc4e-4699-a143-4f6c469f5e14"
      },
      "outputs": [
        {
          "data": {
            "application/javascript": "\n        window._wandbApiKey = new Promise((resolve, reject) => {\n            function loadScript(url) {\n            return new Promise(function(resolve, reject) {\n                let newScript = document.createElement(\"script\");\n                newScript.onerror = reject;\n                newScript.onload = resolve;\n                document.body.appendChild(newScript);\n                newScript.src = url;\n            });\n            }\n            loadScript(\"https://cdn.jsdelivr.net/npm/postmate/build/postmate.min.js\").then(() => {\n            const iframe = document.createElement('iframe')\n            iframe.style.cssText = \"width:0;height:0;border:none\"\n            document.body.appendChild(iframe)\n            const handshake = new Postmate({\n                container: iframe,\n                url: 'https://wandb.ai/authorize'\n            });\n            const timeout = setTimeout(() => reject(\"Couldn't auto authenticate\"), 5000)\n            handshake.then(function(child) {\n                child.on('authorize', data => {\n                    clearTimeout(timeout)\n                    resolve(data)\n                });\n            });\n            })\n        });\n    ",
            "text/plain": [
              "<IPython.core.display.Javascript object>"
            ]
          },
          "metadata": {},
          "output_type": "display_data"
        },
        {
          "name": "stderr",
          "output_type": "stream",
          "text": [
            "\u001b[34m\u001b[1mwandb\u001b[0m: Logging into wandb.ai. (Learn how to deploy a W&B server locally: https://wandb.me/wandb-server)\n",
            "\u001b[34m\u001b[1mwandb\u001b[0m: You can find your API key in your browser here: https://wandb.ai/authorize\n",
            "wandb: Paste an API key from your profile and hit enter, or press ctrl+c to quit:"
          ]
        },
        {
          "name": "stdout",
          "output_type": "stream",
          "text": [
            " ··········\n"
          ]
        },
        {
          "name": "stderr",
          "output_type": "stream",
          "text": [
            "\u001b[34m\u001b[1mwandb\u001b[0m: Appending key for api.wandb.ai to your netrc file: /root/.netrc\n"
          ]
        },
        {
          "data": {
            "text/plain": [
              "True"
            ]
          },
          "execution_count": 4,
          "metadata": {},
          "output_type": "execute_result"
        }
      ],
      "source": [
        "wandb.login()"
      ]
    },
    {
      "cell_type": "markdown",
      "metadata": {},
      "source": [
        "#### Initialise project and log the configuration of model"
      ]
    },
    {
      "cell_type": "code",
      "execution_count": null,
      "metadata": {
        "colab": {
          "base_uri": "https://localhost:8080/",
          "height": 142
        },
        "id": "-QUfcsTaUqRM",
        "outputId": "e2a278e1-1fda-41cc-dfd6-fd48b08b1c96"
      },
      "outputs": [
        {
          "data": {
            "text/html": [
              "Tracking run with wandb version 0.16.6"
            ],
            "text/plain": [
              "<IPython.core.display.HTML object>"
            ]
          },
          "metadata": {},
          "output_type": "display_data"
        },
        {
          "data": {
            "text/html": [
              "Run data is saved locally in <code>/content/wandb/run-20240429_063540-2b5psck5</code>"
            ],
            "text/plain": [
              "<IPython.core.display.HTML object>"
            ]
          },
          "metadata": {},
          "output_type": "display_data"
        },
        {
          "data": {
            "text/html": [
              "Syncing run <strong><a href='https://wandb.ai/nottsprojects/part6-training/runs/2b5psck5' target=\"_blank\">retraining but normalizing rest to first channel and epoch 300, 1800 iter</a></strong> to <a href='https://wandb.ai/nottsprojects/part6-training' target=\"_blank\">Weights & Biases</a> (<a href='https://wandb.me/run' target=\"_blank\">docs</a>)<br/>"
            ],
            "text/plain": [
              "<IPython.core.display.HTML object>"
            ]
          },
          "metadata": {},
          "output_type": "display_data"
        },
        {
          "data": {
            "text/html": [
              " View project at <a href='https://wandb.ai/nottsprojects/part6-training' target=\"_blank\">https://wandb.ai/nottsprojects/part6-training</a>"
            ],
            "text/plain": [
              "<IPython.core.display.HTML object>"
            ]
          },
          "metadata": {},
          "output_type": "display_data"
        },
        {
          "data": {
            "text/html": [
              " View run at <a href='https://wandb.ai/nottsprojects/part6-training/runs/2b5psck5' target=\"_blank\">https://wandb.ai/nottsprojects/part6-training/runs/2b5psck5</a>"
            ],
            "text/plain": [
              "<IPython.core.display.HTML object>"
            ]
          },
          "metadata": {},
          "output_type": "display_data"
        },
        {
          "data": {
            "text/html": [
              "<button onClick=\"this.nextSibling.style.display='block';this.style.display='none';\">Display W&B run</button><iframe src='https://wandb.ai/nottsprojects/part6-training/runs/2b5psck5?jupyter=true' style='border:none;width:100%;height:420px;display:none;'></iframe>"
            ],
            "text/plain": [
              "<wandb.sdk.wandb_run.Run at 0x7bf8ce560880>"
            ]
          },
          "execution_count": 71,
          "metadata": {},
          "output_type": "execute_result"
        }
      ],
      "source": [
        "# 'hyperparameters' is a dictionary containing your hyperparameters, for example:\n",
        "hyperparameters = {\n",
        "    \"learning_rate\": 0.0001,\n",
        "    \"batch_size\": 1,\n",
        "    \"epochs\": 300,\n",
        "    \"scheduler\": \"LinearLR\",\n",
        "    \"end point\": 0.01,\n",
        "    \"iterations\": 1800,\n",
        "}\n",
        "# Initialize a new wandb run\n",
        "wandb.init(project=\"part6-training\", name=\"retraining but normalizing rest to first channel and epoch 300, 1800 iter\", config=hyperparameters)"
      ]
    },
    {
      "cell_type": "markdown",
      "metadata": {},
      "source": [
        "#### Import data"
      ]
    },
    {
      "cell_type": "code",
      "execution_count": null,
      "metadata": {
        "id": "69O8-epgv6eU"
      },
      "outputs": [],
      "source": [
        "case_k_params = torch.load(\"/content/drive/MyDrive/SEGP/data_SEGP/batch_2_params_normalized/case_k_params_normalized.pt\")\n",
        "case_w_params = torch.load(\"/content/drive/MyDrive/SEGP/data_SEGP/batch_2_params_normalized/case_w_params_normalized.pt\")\n",
        "case_sig_params = torch.load(\"/content/drive/MyDrive/SEGP/data_SEGP/batch_2_params_normalized/case_sig_params_normalized.pt\")\n",
        "case_k = torch.load(\"/content/drive/MyDrive/SEGP/data_SEGP/batch_2_pt/case_k.pt\")\n",
        "case_w = torch.load(\"/content/drive/MyDrive/SEGP/data_SEGP/batch_2_pt/case_w.pt\")\n",
        "case_sig = torch.load(\"/content/drive/MyDrive/SEGP/data_SEGP/batch_2_pt/case_sig.pt\")"
      ]
    },
    {
      "cell_type": "code",
      "execution_count": null,
      "metadata": {
        "colab": {
          "base_uri": "https://localhost:8080/"
        },
        "id": "GpR0DcSwv9GN",
        "outputId": "515fe740-ec85-45c3-9efd-9b85bba7c949"
      },
      "outputs": [
        {
          "name": "stdout",
          "output_type": "stream",
          "text": [
            "CUDA is available. Running on GPU.\n"
          ]
        }
      ],
      "source": [
        "if torch.cuda.is_available:\n",
        "    print(\"CUDA is available. Running on GPU.\")\n",
        "else:\n",
        "    print(\"CUDA is unavailable. Running on CPU.\")\n",
        "\n",
        "device = torch.device(\"cuda\" if torch.cuda.is_available() else \"cpu\")"
      ]
    },
    {
      "cell_type": "markdown",
      "metadata": {},
      "source": [
        "#### Data processing"
      ]
    },
    {
      "cell_type": "code",
      "execution_count": null,
      "metadata": {
        "id": "EKSXOwgav_-F"
      },
      "outputs": [],
      "source": [
        "case_k = case_k.tolist()\n",
        "case_w = case_w.tolist()\n",
        "case_sig = case_sig.tolist()\n",
        "case_k_params = case_k_params.tolist()\n",
        "case_w_params = case_w_params.tolist()\n",
        "case_sig_params = case_sig_params.tolist()\n",
        "\n",
        "# deleting the first image from all of them\n",
        "for i in range(len(case_k)):\n",
        "    case_k[i].pop(0)\n",
        "    case_w[i].pop(0)\n",
        "    case_sig[i].pop(0)\n",
        "    case_k_params[i].pop(0)\n",
        "    case_w_params[i].pop(0)\n",
        "    case_sig_params[i].pop(0)\n",
        "\n",
        "# seperating the test from the training\n",
        "data_test = []\n",
        "data_train = []\n",
        "data_test_params = []\n",
        "data_train_params = []\n",
        "\n",
        "for i in range(5):\n",
        "    if i != 2:\n",
        "        data_train.append(case_k[i])\n",
        "        data_train.append(case_w[i])\n",
        "        data_train.append(case_sig[i])\n",
        "        data_train_params.append(case_k_params[i])\n",
        "        data_train_params.append(case_w_params[i])\n",
        "        data_train_params.append(case_sig_params[i])\n",
        "    else:\n",
        "        data_test.append(case_k[i])\n",
        "        data_test.append(case_w[i])\n",
        "        data_test.append(case_sig[i])\n",
        "        data_test_params.append(case_k_params[i])\n",
        "        data_test_params.append(case_w_params[i])\n",
        "        data_test_params.append(case_sig_params[i])"
      ]
    },
    {
      "cell_type": "code",
      "execution_count": null,
      "metadata": {
        "id": "rK2J-rBywJhh"
      },
      "outputs": [],
      "source": [
        "# split the data into X and y targets for both training and testing\n",
        "X_train = []\n",
        "y_train = []\n",
        "\n",
        "X_test = []\n",
        "y_test = []\n",
        "\n",
        "for i in range(len(data_train)):\n",
        "    X = []\n",
        "    y = []\n",
        "    for j in range(len(data_train[i]) - 1):\n",
        "        X.append(data_train_params[i][j])\n",
        "        y.append(data_train[i][j+1])\n",
        "    X_train.append(X)\n",
        "    y_train.append(y)\n",
        "\n",
        "for i in range(len(data_test)):\n",
        "    X = []\n",
        "    y = []\n",
        "    for j in range(len(data_test[i]) - 1):\n",
        "        X.append(data_test_params[i][j])\n",
        "        y.append(data_test[i][j+1])\n",
        "    X_test.append(X)\n",
        "    y_test.append(y)\n",
        "\n",
        "X_train = np.array(X_train)\n",
        "y_train = np.array(y_train)\n",
        "X_test = np.array(X_test)\n",
        "y_test = np.array(y_test)\n",
        "\n",
        "# Convert NumPy arrays to PyTorch tensors\n",
        "X_train = torch.tensor(X_train).to(torch.float).to(device)\n",
        "X_test = torch.tensor(X_test).to(torch.float).to(device)\n",
        "y_train = torch.tensor(y_train).to(torch.float).to(device)\n",
        "y_test = torch.tensor(y_test).to(torch.float).to(device)"
      ]
    },
    {
      "cell_type": "code",
      "execution_count": null,
      "metadata": {
        "colab": {
          "base_uri": "https://localhost:8080/"
        },
        "id": "tE40Kx02wMCI",
        "outputId": "823f0c3a-63df-455b-d695-99908c60ff8a"
      },
      "outputs": [
        {
          "data": {
            "text/plain": [
              "(torch.Size([12, 119, 4, 101, 101]),\n",
              " torch.Size([12, 119, 1, 101, 101]),\n",
              " torch.Size([3, 119, 4, 101, 101]),\n",
              " torch.Size([3, 119, 1, 101, 101]))"
            ]
          },
          "execution_count": 76,
          "metadata": {},
          "output_type": "execute_result"
        }
      ],
      "source": [
        "X_train.shape, y_train.shape, X_test.shape, y_test.shape"
      ]
    },
    {
      "cell_type": "markdown",
      "metadata": {},
      "source": [
        "#### Tensor plotting function"
      ]
    },
    {
      "cell_type": "code",
      "execution_count": null,
      "metadata": {
        "id": "y60MJEykwPIG"
      },
      "outputs": [],
      "source": [
        "# function to plot images\n",
        "\n",
        "def plotImage(x, index, message):\n",
        "    # plt.title(f\"Time={sample1 * 5}\")\n",
        "\n",
        "    vmin = 0  # Minimum temperature value\n",
        "    vmax = 80  # Maximum temperature value\n",
        "\n",
        "    heatmap = plt.imshow(x.squeeze().detach().cpu().numpy(), cmap='inferno', interpolation='nearest')\n",
        "    plt.colorbar(label='Temperature (°C)')\n",
        "    heatmap.set_clim(vmin, vmax)  # Set the colorbar scale explicitly\n",
        "    plt.axis(False)\n",
        "    plt.title(f\"{message} at time={index * 5}\")"
      ]
    },
    {
      "cell_type": "markdown",
      "metadata": {},
      "source": [
        "#### Initialize Dataset class"
      ]
    },
    {
      "cell_type": "code",
      "execution_count": null,
      "metadata": {
        "id": "nvY7vO20xTI5"
      },
      "outputs": [],
      "source": [
        "class CustomDataset(Dataset):\n",
        "    def __init__(self, X, y):\n",
        "        if isinstance(X, torch.Tensor):\n",
        "            self.X = X.clone().detach()\n",
        "        else:\n",
        "            self.X = torch.tensor(X)\n",
        "\n",
        "        if isinstance(y, torch.Tensor):\n",
        "            self.y = y.clone().detach()\n",
        "        else:\n",
        "            self.y = torch.tensor(y)\n",
        "\n",
        "    def __len__(self):\n",
        "        return len(self.X)\n",
        "\n",
        "    def __getitem__(self, idx):\n",
        "        return self.X[idx], self.y[idx]"
      ]
    },
    {
      "cell_type": "code",
      "execution_count": null,
      "metadata": {
        "id": "qX7Qm4m9xVeg"
      },
      "outputs": [],
      "source": [
        "train_dataset = CustomDataset(X_train, y_train)\n",
        "test_dataset = CustomDataset(X_test, y_test)\n",
        "batch_size = 1\n",
        "train_dataloader = DataLoader(train_dataset, batch_size=batch_size, shuffle=True)\n",
        "test_dataloader = DataLoader(test_dataset, batch_size=batch_size, shuffle=True)"
      ]
    },
    {
      "cell_type": "markdown",
      "metadata": {},
      "source": [
        "#### Encoding channels 2-4 to output tensor"
      ]
    },
    {
      "cell_type": "code",
      "execution_count": null,
      "metadata": {
        "id": "Hnzpjgr37O-1"
      },
      "outputs": [],
      "source": [
        "def addChannels(tensor, k_val, w_val, sig_val):\n",
        "    extra_channels = np.stack((np.full((101, 101), k_val), np.full((101, 101), w_val), np.full((101, 101), sig_val)), axis=0)\n",
        "    extra_channels_reshaped = extra_channels.reshape(1, 3, 101, 101)\n",
        "    extra_channels_repeated = np.repeat(extra_channels_reshaped, tensor.shape[0], axis=0)\n",
        "    tensor = tensor.cpu().detach().numpy()\n",
        "    final_array = np.concatenate((tensor, extra_channels_repeated), axis=1)\n",
        "    final_tensor = torch.tensor(final_array, dtype=torch.float32).cuda()\n",
        "    return final_tensor"
      ]
    },
    {
      "cell_type": "markdown",
      "metadata": {},
      "source": [
        "#### Initilising model, loss function, optimiser, and scheduler"
      ]
    },
    {
      "cell_type": "code",
      "execution_count": null,
      "metadata": {
        "id": "6lUSGVKH8Vgy"
      },
      "outputs": [],
      "source": [
        "model = FNO2d(n_modes_height=32, n_modes_width=32, hidden_channels=32, projection_channels=101,\n",
        "                in_channels=4, out_channels=1).to(device)\n",
        "loss_fn = H1Loss(d=2)\n",
        "optimizer = torch.optim.Adam(params=model.parameters(), lr=0.0001, weight_decay=0.0001)\n",
        "scheduler = torch.optim.lr_scheduler.LinearLR(optimizer, start_factor=1.0, end_factor=0.01, total_iters=1800)"
      ]
    },
    {
      "cell_type": "markdown",
      "metadata": {
        "id": "cUhLlVA0XU-z"
      },
      "source": [
        "#### Training loop"
      ]
    },
    {
      "cell_type": "code",
      "execution_count": null,
      "metadata": {
        "colab": {
          "base_uri": "https://localhost:8080/"
        },
        "id": "hm8K6MzSVfby",
        "outputId": "04dbae41-d3e2-40b2-a67b-6c4db7088ea0"
      },
      "outputs": [
        {
          "name": "stdout",
          "output_type": "stream",
          "text": [
            "Epoch: 1 | Avg Train Loss: 78.11932 | Avg RMSE Loss: 8.21871\n",
            "Lowest training loss: 78.11932\n",
            "Epoch: 11 | Avg Train Loss: 77.07544 | Avg RMSE Loss: 7.07449\n",
            "Lowest training loss: 76.88214\n",
            "Epoch: 21 | Avg Train Loss: 77.17507 | Avg RMSE Loss: 7.26136\n",
            "Lowest training loss: 76.88214\n",
            "Epoch: 31 | Avg Train Loss: 76.04152 | Avg RMSE Loss: 7.19410\n",
            "Lowest training loss: 76.04152\n",
            "Epoch: 41 | Avg Train Loss: 69.87167 | Avg RMSE Loss: 6.57224\n",
            "Lowest training loss: 69.87167\n",
            "Epoch: 51 | Avg Train Loss: 66.42390 | Avg RMSE Loss: 6.81717\n",
            "Lowest training loss: 61.10514\n",
            "Epoch: 61 | Avg Train Loss: 42.35066 | Avg RMSE Loss: 4.35236\n",
            "Lowest training loss: 41.50108\n",
            "Epoch: 71 | Avg Train Loss: 38.13153 | Avg RMSE Loss: 4.09461\n",
            "Lowest training loss: 29.82161\n",
            "Epoch: 81 | Avg Train Loss: 46.97961 | Avg RMSE Loss: 4.90750\n",
            "Lowest training loss: 27.05829\n",
            "Epoch: 91 | Avg Train Loss: 31.72770 | Avg RMSE Loss: 3.40604\n",
            "Lowest training loss: 27.05829\n",
            "Epoch: 101 | Avg Train Loss: 32.41244 | Avg RMSE Loss: 3.40316\n",
            "Lowest training loss: 22.23791\n",
            "Epoch: 111 | Avg Train Loss: 19.18803 | Avg RMSE Loss: 2.16529\n",
            "Lowest training loss: 19.18803\n",
            "Epoch: 121 | Avg Train Loss: 15.89422 | Avg RMSE Loss: 1.96998\n",
            "Lowest training loss: 14.42544\n",
            "Epoch: 131 | Avg Train Loss: 11.43083 | Avg RMSE Loss: 1.71435\n",
            "Lowest training loss: 10.72814\n",
            "Epoch: 141 | Avg Train Loss: 7.79769 | Avg RMSE Loss: 1.37678\n",
            "Lowest training loss: 7.68896\n",
            "Epoch: 151 | Avg Train Loss: 6.95727 | Avg RMSE Loss: 1.33269\n",
            "Lowest training loss: 6.88940\n",
            "Epoch: 161 | Avg Train Loss: 6.94123 | Avg RMSE Loss: 1.32343\n",
            "Lowest training loss: 6.57726\n",
            "Epoch: 171 | Avg Train Loss: 6.34721 | Avg RMSE Loss: 1.24192\n",
            "Lowest training loss: 6.30299\n",
            "Epoch: 181 | Avg Train Loss: 6.30177 | Avg RMSE Loss: 1.24261\n",
            "Lowest training loss: 6.30177\n",
            "Epoch: 191 | Avg Train Loss: 6.08036 | Avg RMSE Loss: 1.17598\n",
            "Lowest training loss: 6.08036\n",
            "Epoch: 201 | Avg Train Loss: 5.94871 | Avg RMSE Loss: 1.15297\n",
            "Lowest training loss: 5.94871\n",
            "Epoch: 211 | Avg Train Loss: 6.50000 | Avg RMSE Loss: 1.19621\n",
            "Lowest training loss: 5.93269\n",
            "Epoch: 221 | Avg Train Loss: 5.97557 | Avg RMSE Loss: 1.15832\n",
            "Lowest training loss: 5.62284\n",
            "Epoch: 231 | Avg Train Loss: 5.68804 | Avg RMSE Loss: 1.07151\n",
            "Lowest training loss: 5.60528\n",
            "Epoch: 241 | Avg Train Loss: 5.66310 | Avg RMSE Loss: 1.10549\n",
            "Lowest training loss: 5.60528\n",
            "Epoch: 251 | Avg Train Loss: 5.62733 | Avg RMSE Loss: 1.06629\n",
            "Lowest training loss: 5.52965\n",
            "Epoch: 261 | Avg Train Loss: 5.58267 | Avg RMSE Loss: 1.08250\n",
            "Lowest training loss: 5.42425\n",
            "Epoch: 271 | Avg Train Loss: 5.39862 | Avg RMSE Loss: 1.02789\n",
            "Lowest training loss: 5.32225\n",
            "Epoch: 281 | Avg Train Loss: 5.29021 | Avg RMSE Loss: 0.98272\n",
            "Lowest training loss: 5.29021\n",
            "Epoch: 291 | Avg Train Loss: 5.30042 | Avg RMSE Loss: 1.00291\n",
            "Lowest training loss: 5.13437\n",
            "Epoch: 300 | Avg Train Loss: 5.18440 | Avg RMSE Loss: 0.96834\n",
            "Lowest training loss: 5.13437\n"
          ]
        }
      ],
      "source": [
        "epochs = 300\n",
        "prediction_length = 100\n",
        "best_model_params = None\n",
        "\n",
        "lowest_loss = float('inf')\n",
        "for epoch in range(epochs):\n",
        "    model.train()\n",
        "\n",
        "    total_rmse_loss = 0\n",
        "    total_train_loss = 0\n",
        "    for sequence_inputs, sequence_outputs in train_dataloader:\n",
        "\n",
        "        sequence_inputs = sequence_inputs.squeeze(0)\n",
        "        sequence_outputs = sequence_outputs.squeeze(0)\n",
        "\n",
        "        input_sample = sequence_inputs[0].unsqueeze(0)\n",
        "\n",
        "        k_val = round(input_sample[0][1][0][0].item(), 4)\n",
        "        w_val = round(input_sample[0][2][0][0].item(), 4)\n",
        "        sig_val = round(input_sample[0][3][0][0].item(), 4)\n",
        "        params_tensor = torch.tensor([[k_val, w_val, sig_val]]).view(1, 3, 1, 1).expand(-1, -1, 101, 101).to(device)\n",
        "\n",
        "        for i in range(sequence_inputs.shape[0]):\n",
        "            prediction = model(input_sample)\n",
        "            truth = sequence_outputs[i].unsqueeze(0)\n",
        "\n",
        "            optimizer.zero_grad()\n",
        "\n",
        "            loss = loss_fn(prediction, truth)\n",
        "\n",
        "            loss.backward()\n",
        "\n",
        "            total_train_loss += loss.item()\n",
        "            rmse = torch.sqrt(torch.mean((prediction - truth) ** 2))\n",
        "            total_rmse_loss += rmse.item()\n",
        "\n",
        "            optimizer.step()\n",
        "\n",
        "            prediction = prediction.detach()\n",
        "            input_sample = torch.cat((prediction, params_tensor), dim=1)\n",
        "\n",
        "        scheduler.step()\n",
        "\n",
        "    avg_train_loss = total_train_loss/len(train_dataloader)\n",
        "    avg_rmse_loss = total_rmse_loss/(sequence_inputs.shape[0] * len(train_dataloader))\n",
        "\n",
        "    wandb.log({\"epoch\": epoch,\"avg_train_loss\": avg_train_loss, \"avg_rmse_loss\": avg_rmse_loss})\n",
        "\n",
        "    if avg_train_loss < lowest_loss:\n",
        "        lowest_loss = avg_train_loss\n",
        "        best_model_params = model.state_dict()\n",
        "\n",
        "    if epoch % 10 == 0 or epoch == epochs - 1:\n",
        "        # test_acc = acc_fn(test_pred, y_test)\n",
        "        print(f\"Epoch: {epoch+1} | Avg Train Loss: {avg_train_loss:.5f} | Avg RMSE Loss: {avg_rmse_loss:.5f}\")\n",
        "        print(f\"Lowest training loss: {lowest_loss:.5f}\")"
      ]
    },
    {
      "cell_type": "markdown",
      "metadata": {},
      "source": [
        "#### Load best parameters to model"
      ]
    },
    {
      "cell_type": "code",
      "execution_count": null,
      "metadata": {
        "colab": {
          "base_uri": "https://localhost:8080/"
        },
        "id": "sFzZw8h2WzDy",
        "outputId": "a8eded65-c2c8-4d35-8bc0-bc4e15185256"
      },
      "outputs": [
        {
          "data": {
            "text/plain": [
              "<All keys matched successfully>"
            ]
          },
          "execution_count": 93,
          "metadata": {},
          "output_type": "execute_result"
        }
      ],
      "source": [
        "model.load_state_dict(best_model_params)"
      ]
    },
    {
      "cell_type": "markdown",
      "metadata": {},
      "source": [
        "#### Finish logging information"
      ]
    },
    {
      "cell_type": "code",
      "execution_count": null,
      "metadata": {
        "colab": {
          "base_uri": "https://localhost:8080/",
          "height": 427,
          "referenced_widgets": [
            "e3c1fb51e4f54f5bb588a2de96d33141",
            "37bf221a51574197bde44a365a247dae",
            "34d9492de5ec45368a177e012885bbff",
            "d789ca1761774f21a9a9afbec9c9bb30",
            "e65bbc5c5cbe433680ae8eda2888f48b",
            "d847d91aa1724264a7783aef7e225898",
            "feb9d860a4e948a39625c8fa3946504a",
            "22f879173ba44e7ebeaee20b83fd7469"
          ]
        },
        "id": "WSctFZIeW89B",
        "outputId": "a33fe66c-4516-4dc2-fd40-f5151709bbea"
      },
      "outputs": [
        {
          "data": {
            "application/vnd.jupyter.widget-view+json": {
              "model_id": "e3c1fb51e4f54f5bb588a2de96d33141",
              "version_major": 2,
              "version_minor": 0
            },
            "text/plain": [
              "VBox(children=(Label(value='0.002 MB of 0.002 MB uploaded\\r'), FloatProgress(value=1.0, max=1.0)))"
            ]
          },
          "metadata": {},
          "output_type": "display_data"
        },
        {
          "data": {
            "text/html": [
              "<style>\n",
              "    table.wandb td:nth-child(1) { padding: 0 10px; text-align: left ; width: auto;} td:nth-child(2) {text-align: left ; width: 100%}\n",
              "    .wandb-row { display: flex; flex-direction: row; flex-wrap: wrap; justify-content: flex-start; width: 100% }\n",
              "    .wandb-col { display: flex; flex-direction: column; flex-basis: 100%; flex: 1; padding: 10px; }\n",
              "    </style>\n",
              "<div class=\"wandb-row\"><div class=\"wandb-col\"><h3>Run history:</h3><br/><table class=\"wandb\"><tr><td>avg_rmse_loss</td><td>██████▇▅▄▄▅▄▄▃▃▂▂▂▂▁▁▁▁▁▁▁▁▁▁▁▁▁▁▁▁▁▁▁▁▁</td></tr><tr><td>avg_train_loss</td><td>██████▇▅▃▄▅▄▃▃▃▂▂▁▁▁▁▁▁▁▁▁▁▁▁▁▁▁▁▁▁▁▁▁▁▁</td></tr><tr><td>epoch</td><td>▁▁▁▁▂▂▂▂▂▃▃▃▃▃▃▄▄▄▄▄▅▅▅▅▅▅▆▆▆▆▆▆▇▇▇▇▇███</td></tr></table><br/></div><div class=\"wandb-col\"><h3>Run summary:</h3><br/><table class=\"wandb\"><tr><td>avg_rmse_loss</td><td>0.96834</td></tr><tr><td>avg_train_loss</td><td>5.1844</td></tr><tr><td>epoch</td><td>299</td></tr></table><br/></div></div>"
            ],
            "text/plain": [
              "<IPython.core.display.HTML object>"
            ]
          },
          "metadata": {},
          "output_type": "display_data"
        },
        {
          "data": {
            "text/html": [
              " View run <strong style=\"color:#cdcd00\">retraining but normalizing rest to first channel and epoch 300, 1800 iter</strong> at: <a href='https://wandb.ai/nottsprojects/part6-training/runs/2b5psck5' target=\"_blank\">https://wandb.ai/nottsprojects/part6-training/runs/2b5psck5</a><br/> View project at: <a href='https://wandb.ai/nottsprojects/part6-training' target=\"_blank\">https://wandb.ai/nottsprojects/part6-training</a><br/>Synced 5 W&B file(s), 0 media file(s), 0 artifact file(s) and 0 other file(s)"
            ],
            "text/plain": [
              "<IPython.core.display.HTML object>"
            ]
          },
          "metadata": {},
          "output_type": "display_data"
        },
        {
          "data": {
            "text/html": [
              "Find logs at: <code>./wandb/run-20240429_063540-2b5psck5/logs</code>"
            ],
            "text/plain": [
              "<IPython.core.display.HTML object>"
            ]
          },
          "metadata": {},
          "output_type": "display_data"
        }
      ],
      "source": [
        "wandb.watch(model)\n",
        "wandb.finish()"
      ]
    },
    {
      "cell_type": "markdown",
      "metadata": {},
      "source": [
        "#### Saving model to Drive"
      ]
    },
    {
      "cell_type": "code",
      "execution_count": null,
      "metadata": {
        "id": "d3834Q1-pDdf"
      },
      "outputs": [],
      "source": [
        "import os\n",
        "\n",
        "directory = \"/content/drive/MyDrive/SEGP/SEGP_models/LCAN-SIMM-FNO3\"\n",
        "\n",
        "# Specify the filename for your model\n",
        "filename = \"FNO-11.pth\"\n",
        "\n",
        "# Full path for saving the model\n",
        "full_path = os.path.join(directory, filename)\n",
        "\n",
        "# Check if the specified directory exists, create it if it does not\n",
        "if not os.path.exists(directory):\n",
        "    os.makedirs(directory)\n",
        "\n",
        "# saving the paramaters of the model, not the model itself\n",
        "torch.save(model.state_dict(), full_path)"
      ]
    },
    {
      "cell_type": "markdown",
      "metadata": {},
      "source": [
        "#### Visualize models prediction"
      ]
    },
    {
      "cell_type": "code",
      "execution_count": null,
      "metadata": {
        "colab": {
          "base_uri": "https://localhost:8080/"
        },
        "id": "65o5gl5x-wCh",
        "outputId": "2b243020-abdb-4e2a-ee83-da40d940825b"
      },
      "outputs": [
        {
          "data": {
            "text/plain": [
              "torch.Size([4, 101, 101])"
            ]
          },
          "execution_count": 97,
          "metadata": {},
          "output_type": "execute_result"
        }
      ],
      "source": [
        "test_sample = X_test[1][5]\n",
        "test_sample.shape"
      ]
    },
    {
      "cell_type": "code",
      "execution_count": null,
      "metadata": {
        "id": "1bvH9C0y-yjr"
      },
      "outputs": [],
      "source": [
        "prediction = test_sample.unsqueeze(0)\n",
        "k_val = prediction[0][1][0][0].item()\n",
        "w_val = round(prediction[0][2][0][0].item(), 4)\n",
        "sig_val = round(prediction[0][3][0][0].item(), 4)"
      ]
    },
    {
      "cell_type": "code",
      "execution_count": null,
      "metadata": {
        "id": "ByU2MuzFlWZm"
      },
      "outputs": [],
      "source": [
        "prediction = prediction.float()\n",
        "simulation = []\n",
        "model.eval()\n",
        "with torch.inference_mode():\n",
        "    for i in range(100):\n",
        "        input = prediction\n",
        "        prediction = model(input)\n",
        "        simulation.append(prediction)\n",
        "        prediction = addChannels(prediction, k_val, w_val, sig_val)"
      ]
    },
    {
      "cell_type": "code",
      "execution_count": null,
      "metadata": {
        "colab": {
          "base_uri": "https://localhost:8080/",
          "height": 437
        },
        "id": "3PFd5oWoxXKi",
        "outputId": "af125310-31a3-49cb-94d2-25e577f5722e"
      },
      "outputs": [
        {
          "data": {
            "image/png": "[encoded data removed]",
            "text/plain": [
              "<Figure size 640x480 with 2 Axes>"
            ]
          },
          "metadata": {},
          "output_type": "display_data"
        }
      ],
      "source": [
        "plotImage(simulation[94], 15, \"Truth\")"
      ]
    },
    {
      "cell_type": "code",
      "execution_count": null,
      "metadata": {
        "colab": {
          "base_uri": "https://localhost:8080/",
          "height": 437
        },
        "id": "01m_UkL5_BLz",
        "outputId": "09f66f19-6be3-4366-c366-0a76783dd401"
      },
      "outputs": [
        {
          "data": {
            "image/png": "[encoded data removed]",
            "text/plain": [
              "<Figure size 640x480 with 2 Axes>"
            ]
          },
          "metadata": {},
          "output_type": "display_data"
        }
      ],
      "source": [
        "plotImage(y_test[1][99], 70, \"Truth\")"
      ]
    }
  ],
  "metadata": {
    "accelerator": "GPU",
    "colab": {
      "gpuType": "V100",
      "machine_shape": "hm",
      "provenance": []
    },
    "kernelspec": {
      "display_name": "Python 3",
      "name": "python3"
    },
    "language_info": {
      "name": "python"
    },
    "widgets": {
      "application/vnd.jupyter.widget-state+json": {
        "22f879173ba44e7ebeaee20b83fd7469": {
          "model_module": "@jupyter-widgets/controls",
          "model_module_version": "1.5.0",
          "model_name": "ProgressStyleModel",
          "state": {
            "_model_module": "@jupyter-widgets/controls",
            "_model_module_version": "1.5.0",
            "_model_name": "ProgressStyleModel",
            "_view_count": null,
            "_view_module": "@jupyter-widgets/base",
            "_view_module_version": "1.2.0",
            "_view_name": "StyleView",
            "bar_color": null,
            "description_width": ""
          }
        },
        "34d9492de5ec45368a177e012885bbff": {
          "model_module": "@jupyter-widgets/controls",
          "model_module_version": "1.5.0",
          "model_name": "FloatProgressModel",
          "state": {
            "_dom_classes": [],
            "_model_module": "@jupyter-widgets/controls",
            "_model_module_version": "1.5.0",
            "_model_name": "FloatProgressModel",
            "_view_count": null,
            "_view_module": "@jupyter-widgets/controls",
            "_view_module_version": "1.5.0",
            "_view_name": "ProgressView",
            "bar_style": "",
            "description": "",
            "description_tooltip": null,
            "layout": "IPY_MODEL_feb9d860a4e948a39625c8fa3946504a",
            "max": 1,
            "min": 0,
            "orientation": "horizontal",
            "style": "IPY_MODEL_22f879173ba44e7ebeaee20b83fd7469",
            "value": 1
          }
        },
        "37bf221a51574197bde44a365a247dae": {
          "model_module": "@jupyter-widgets/controls",
          "model_module_version": "1.5.0",
          "model_name": "LabelModel",
          "state": {
            "_dom_classes": [],
            "_model_module": "@jupyter-widgets/controls",
            "_model_module_version": "1.5.0",
            "_model_name": "LabelModel",
            "_view_count": null,
            "_view_module": "@jupyter-widgets/controls",
            "_view_module_version": "1.5.0",
            "_view_name": "LabelView",
            "description": "",
            "description_tooltip": null,
            "layout": "IPY_MODEL_e65bbc5c5cbe433680ae8eda2888f48b",
            "placeholder": "​",
            "style": "IPY_MODEL_d847d91aa1724264a7783aef7e225898",
            "value": "0.015 MB of 0.015 MB uploaded\r"
          }
        },
        "d789ca1761774f21a9a9afbec9c9bb30": {
          "model_module": "@jupyter-widgets/base",
          "model_module_version": "1.2.0",
          "model_name": "LayoutModel",
          "state": {
            "_model_module": "@jupyter-widgets/base",
            "_model_module_version": "1.2.0",
            "_model_name": "LayoutModel",
            "_view_count": null,
            "_view_module": "@jupyter-widgets/base",
            "_view_module_version": "1.2.0",
            "_view_name": "LayoutView",
            "align_content": null,
            "align_items": null,
            "align_self": null,
            "border": null,
            "bottom": null,
            "display": null,
            "flex": null,
            "flex_flow": null,
            "grid_area": null,
            "grid_auto_columns": null,
            "grid_auto_flow": null,
            "grid_auto_rows": null,
            "grid_column": null,
            "grid_gap": null,
            "grid_row": null,
            "grid_template_areas": null,
            "grid_template_columns": null,
            "grid_template_rows": null,
            "height": null,
            "justify_content": null,
            "justify_items": null,
            "left": null,
            "margin": null,
            "max_height": null,
            "max_width": null,
            "min_height": null,
            "min_width": null,
            "object_fit": null,
            "object_position": null,
            "order": null,
            "overflow": null,
            "overflow_x": null,
            "overflow_y": null,
            "padding": null,
            "right": null,
            "top": null,
            "visibility": null,
            "width": null
          }
        },
        "d847d91aa1724264a7783aef7e225898": {
          "model_module": "@jupyter-widgets/controls",
          "model_module_version": "1.5.0",
          "model_name": "DescriptionStyleModel",
          "state": {
            "_model_module": "@jupyter-widgets/controls",
            "_model_module_version": "1.5.0",
            "_model_name": "DescriptionStyleModel",
            "_view_count": null,
            "_view_module": "@jupyter-widgets/base",
            "_view_module_version": "1.2.0",
            "_view_name": "StyleView",
            "description_width": ""
          }
        },
        "e3c1fb51e4f54f5bb588a2de96d33141": {
          "model_module": "@jupyter-widgets/controls",
          "model_module_version": "1.5.0",
          "model_name": "VBoxModel",
          "state": {
            "_dom_classes": [],
            "_model_module": "@jupyter-widgets/controls",
            "_model_module_version": "1.5.0",
            "_model_name": "VBoxModel",
            "_view_count": null,
            "_view_module": "@jupyter-widgets/controls",
            "_view_module_version": "1.5.0",
            "_view_name": "VBoxView",
            "box_style": "",
            "children": [
              "IPY_MODEL_37bf221a51574197bde44a365a247dae",
              "IPY_MODEL_34d9492de5ec45368a177e012885bbff"
            ],
            "layout": "IPY_MODEL_d789ca1761774f21a9a9afbec9c9bb30"
          }
        },
        "e65bbc5c5cbe433680ae8eda2888f48b": {
          "model_module": "@jupyter-widgets/base",
          "model_module_version": "1.2.0",
          "model_name": "LayoutModel",
          "state": {
            "_model_module": "@jupyter-widgets/base",
            "_model_module_version": "1.2.0",
            "_model_name": "LayoutModel",
            "_view_count": null,
            "_view_module": "@jupyter-widgets/base",
            "_view_module_version": "1.2.0",
            "_view_name": "LayoutView",
            "align_content": null,
            "align_items": null,
            "align_self": null,
            "border": null,
            "bottom": null,
            "display": null,
            "flex": null,
            "flex_flow": null,
            "grid_area": null,
            "grid_auto_columns": null,
            "grid_auto_flow": null,
            "grid_auto_rows": null,
            "grid_column": null,
            "grid_gap": null,
            "grid_row": null,
            "grid_template_areas": null,
            "grid_template_columns": null,
            "grid_template_rows": null,
            "height": null,
            "justify_content": null,
            "justify_items": null,
            "left": null,
            "margin": null,
            "max_height": null,
            "max_width": null,
            "min_height": null,
            "min_width": null,
            "object_fit": null,
            "object_position": null,
            "order": null,
            "overflow": null,
            "overflow_x": null,
            "overflow_y": null,
            "padding": null,
            "right": null,
            "top": null,
            "visibility": null,
            "width": null
          }
        },
        "feb9d860a4e948a39625c8fa3946504a": {
          "model_module": "@jupyter-widgets/base",
          "model_module_version": "1.2.0",
          "model_name": "LayoutModel",
          "state": {
            "_model_module": "@jupyter-widgets/base",
            "_model_module_version": "1.2.0",
            "_model_name": "LayoutModel",
            "_view_count": null,
            "_view_module": "@jupyter-widgets/base",
            "_view_module_version": "1.2.0",
            "_view_name": "LayoutView",
            "align_content": null,
            "align_items": null,
            "align_self": null,
            "border": null,
            "bottom": null,
            "display": null,
            "flex": null,
            "flex_flow": null,
            "grid_area": null,
            "grid_auto_columns": null,
            "grid_auto_flow": null,
            "grid_auto_rows": null,
            "grid_column": null,
            "grid_gap": null,
            "grid_row": null,
            "grid_template_areas": null,
            "grid_template_columns": null,
            "grid_template_rows": null,
            "height": null,
            "justify_content": null,
            "justify_items": null,
            "left": null,
            "margin": null,
            "max_height": null,
            "max_width": null,
            "min_height": null,
            "min_width": null,
            "object_fit": null,
            "object_position": null,
            "order": null,
            "overflow": null,
            "overflow_x": null,
            "overflow_y": null,
            "padding": null,
            "right": null,
            "top": null,
            "visibility": null,
            "width": null
          }
        }
      }
    }
  },
  "nbformat": 4,
  "nbformat_minor": 0
}
